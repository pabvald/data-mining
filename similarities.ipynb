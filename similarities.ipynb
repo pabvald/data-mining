{
 "cells": [
  {
   "cell_type": "markdown",
   "metadata": {},
   "source": [
    "## Pablo Valdunciel Sánchez \n",
    "## 26th September, 2019\n",
    "\n",
    "Sean dos muestras X e Y definidas por 10 atributos binarios, calcular:\n",
    "\n",
    "- Tabla de contingencia\n",
    "- Similaridades de Sokal-Michel y Jaccard\n",
    "- Distancia, a través de la transformación de Gower\n",
    "- Distancia de Hamming (número de discrepancias)"
   ]
  },
  {
   "cell_type": "code",
   "execution_count": 23,
   "metadata": {},
   "outputs": [],
   "source": [
    "import numpy as np \n",
    "import math\n",
    "from scipy.spatial.distance import hamming"
   ]
  },
  {
   "cell_type": "code",
   "execution_count": 10,
   "metadata": {},
   "outputs": [
    {
     "data": {
      "text/plain": [
       "array([1, 0, 0, 0, 1, 1, 0, 1, 0, 0])"
      ]
     },
     "execution_count": 10,
     "metadata": {},
     "output_type": "execute_result"
    }
   ],
   "source": [
    "X = np.array([1, 0, 0, 0, 1, 1, 0, 1, 0, 0])\n",
    "X"
   ]
  },
  {
   "cell_type": "code",
   "execution_count": 11,
   "metadata": {
    "scrolled": true
   },
   "outputs": [
    {
     "data": {
      "text/plain": [
       "array([0, 0, 1, 0, 1, 1, 1, 1, 0, 1])"
      ]
     },
     "execution_count": 11,
     "metadata": {},
     "output_type": "execute_result"
    }
   ],
   "source": [
    "Y = np.array([0, 0, 1, 0, 1, 1, 1, 1, 0, 1])\n",
    "Y"
   ]
  },
  {
   "cell_type": "markdown",
   "metadata": {},
   "source": [
    "#### Tabla de contingencia"
   ]
  },
  {
   "cell_type": "code",
   "execution_count": 13,
   "metadata": {},
   "outputs": [],
   "source": [
    "def contingency_table(X, Y):\n",
    "    table = {\"a\":0, \"b\":0, \"c\":0, \"d\":0}\n",
    "    for i in range(X.shape[0]):\n",
    "        if X[i] == 0 and Y[i] == 0:\n",
    "            table[\"a\"] += 1 \n",
    "        elif X[i] == 0 and Y[i] == 1:\n",
    "            table[\"b\"] += 1\n",
    "        elif X[i] == 1 and Y[i] == 0:\n",
    "            table[\"c\"] += 1 \n",
    "        else:\n",
    "            table[\"d\"] += 1\n",
    "    return table "
   ]
  },
  {
   "cell_type": "markdown",
   "metadata": {},
   "source": [
    "#### Similaridades"
   ]
  },
  {
   "cell_type": "code",
   "execution_count": 17,
   "metadata": {},
   "outputs": [
    {
     "name": "stdout",
     "output_type": "stream",
     "text": [
      "- Sokal-Michel = 0.6\n",
      "- Jaccard = 0.42857142857142855\n"
     ]
    }
   ],
   "source": [
    "n = X.shape[0]\n",
    "c_table = contingency_table(X,Y)\n",
    "s_sokal_michel = (c_table[\"a\"] + c_table[\"d\"]) / n\n",
    "s_jaccard = c_table[\"d\"] / (c_table[\"d\"] + c_table[\"b\"] + c_table[\"c\"])\n",
    "\n",
    "print(\"- Sokal-Michel = \" + str(s_sokal_michel))\n",
    "print(\"- Jaccard = \" + str(s_jaccard))"
   ]
  },
  {
   "cell_type": "markdown",
   "metadata": {},
   "source": [
    "#### Distancias"
   ]
  },
  {
   "cell_type": "code",
   "execution_count": 21,
   "metadata": {},
   "outputs": [
    {
     "name": "stdout",
     "output_type": "stream",
     "text": [
      "- Distancia =  0.8944271909999159\n"
     ]
    }
   ],
   "source": [
    "d_XY = math.sqrt(2 - 2*s_sokal_michel)\n",
    "\n",
    "print(\"- Distancia = \", str(d_XY))"
   ]
  },
  {
   "cell_type": "code",
   "execution_count": 26,
   "metadata": {},
   "outputs": [
    {
     "name": "stdout",
     "output_type": "stream",
     "text": [
      "- Distancia de Hamming = 0.4\n"
     ]
    }
   ],
   "source": [
    "d_hamming = hamming(X, Y)\n",
    "print(\"- Distancia de Hamming = \" + str(d_hamming))"
   ]
  },
  {
   "cell_type": "markdown",
   "metadata": {},
   "source": [
    "#### Similaridad mixta"
   ]
  },
  {
   "cell_type": "markdown",
   "metadata": {},
   "source": [
    "Calcular la similaridad entre las instancias 2 y 7. \n",
    "\n",
    "| Sample | X1   | X2  | X3 | X4 | X5 | X6 |\n",
    "|------|------|-----|----|----|----|----|\n",
    "| 1    | 52.5 | 3.8 | 1  | 1  | 1  | 1  |\n",
    "| 2    | 50.2 | 2.9 | 0  | 1  | 1  | 1  |\n",
    "| 3    | 53.4 | 4.2 | 0  | 1  | 3  | 2  |\n",
    "| 4    | 49.8 | 2.8 | 0  | 0  | 1  | 1  |\n",
    "| 5    | 53.4 | 3.9 | 1  | 1  | 2  | 2  |\n",
    "| 6    | 54.1 | 4.6 | 0  | 1  | 1  | 1  |\n",
    "| 7    | 52.3 | 3.7 | 1  | 1  | 1  | 2  |\n",
    "| 8    | 53.8 | 3.9 | 0  | 1  | 4  | 1  |\n",
    "| 9    | 50.7 | 2.6 | 1  | 0  | 2  | 1  |\n",
    "| 10   | 51.6 | 3.5 | 1  | 1  | 1  | 3  |\n",
    "\n",
    "donde \n",
    "\n",
    "- X1: altura\n",
    "- X2: peso\n",
    "- X3: sexo (1:mujer, 0:hombre)\n",
    "- X4: tiempo de gestación (1: más de 35 semanas, 0: menos)\n",
    "- X5: grupo sanguíneo (1:O, 2:A, 3:B, 4:AB)\n",
    "- X6: raza (1:blanca, 2:negra, 3:otras)"
   ]
  },
  {
   "cell_type": "code",
   "execution_count": 28,
   "metadata": {},
   "outputs": [],
   "source": [
    "X = np.array([\n",
    "    [52.5 , 3.8 , 1  , 1  , 1  , 1], \n",
    "    [50.2 , 2.9 , 0  , 1  , 1  , 1], \n",
    "    [53.4 , 4.2 , 0  , 1  , 3  , 2], \n",
    "    [49.8 , 2.8 , 0  , 0  , 1  , 1], \n",
    "    [53.4 , 3.9 , 1  , 1  , 2  , 2], \n",
    "    [54.1 , 4.6 , 0  , 1  , 1  , 1], \n",
    "    [52.3 , 3.7 , 1  , 1  , 1  , 2], \n",
    "    [53.8 , 3.9 , 0  , 1  , 4  , 1], \n",
    "    [50.7 , 2.6 , 1  , 0  , 2  , 1], \n",
    "    [51.6 , 3.5 , 1  , 1  , 1  , 3]\n",
    "])"
   ]
  },
  {
   "cell_type": "code",
   "execution_count": 30,
   "metadata": {},
   "outputs": [],
   "source": [
    "n1 = [0, 1]\n",
    "n2 = [2, 3]\n",
    "n3 = [4, 5]\n",
    "\n",
    "X_continuos = X[:,n1]\n",
    "X_binary = X[:, n2]\n",
    "X_cualitative = X[:, n3]"
   ]
  },
  {
   "cell_type": "code",
   "execution_count": 34,
   "metadata": {},
   "outputs": [],
   "source": [
    "def coincidences(X,Y):\n",
    "    c = 0\n",
    "    for i in range(X.shape[0]):\n",
    "        if X[i] == Y[i]: c+=1\n",
    "    return c "
   ]
  },
  {
   "cell_type": "code",
   "execution_count": 72,
   "metadata": {},
   "outputs": [],
   "source": [
    "c_table = contingency_table(X_binary[1], X_binary[6])\n",
    "alpha = coincidences(X_cualitative[1,:], X_cualitative[6])\n",
    "ranges = np.ptp(X_continuos, axis= 0)\n",
    "aux = np.ones([1,2]) - abs(X_continuos[1] - X_continuos[6])/ ranges\n",
    "sum_continuos = sum(aux[0])"
   ]
  },
  {
   "cell_type": "code",
   "execution_count": 70,
   "metadata": {},
   "outputs": [],
   "source": [
    "mixed_similarity = (sum_continuos +  c_table[\"d\"] + alpha) / (len(n1) + len(n2) - c_table[\"a\"] + len(n3))"
   ]
  },
  {
   "cell_type": "code",
   "execution_count": 71,
   "metadata": {},
   "outputs": [
    {
     "name": "stdout",
     "output_type": "stream",
     "text": [
      "Similaridad mixta = 0.518604651162791\n"
     ]
    }
   ],
   "source": [
    "print(\"Similaridad mixta = \" + str(mixed_similarity))"
   ]
  }
 ],
 "metadata": {
  "kernelspec": {
   "display_name": "Python 3",
   "language": "python",
   "name": "python3"
  },
  "language_info": {
   "codemirror_mode": {
    "name": "ipython",
    "version": 3
   },
   "file_extension": ".py",
   "mimetype": "text/x-python",
   "name": "python",
   "nbconvert_exporter": "python",
   "pygments_lexer": "ipython3",
   "version": "3.7.3"
  }
 },
 "nbformat": 4,
 "nbformat_minor": 2
}
