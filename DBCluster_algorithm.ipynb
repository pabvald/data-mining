{
 "cells": [
  {
   "cell_type": "markdown",
   "metadata": {},
   "source": [
    "## Pablo Valdunciel Sánchez \n",
    "### 3rd November, 2019\n",
    "\n",
    "Implement the DBCluster algorthim"
   ]
  },
  {
   "cell_type": "markdown",
   "metadata": {},
   "source": [
    "# Imports"
   ]
  },
  {
   "cell_type": "code",
   "execution_count": 7,
   "metadata": {},
   "outputs": [],
   "source": [
    "import numpy as np \n",
    "import matplotlib.pyplot as plt\n",
    "import itertools\n",
    "\n",
    "from sklearn.datasets import load_iris\n",
    "from sklearn.preprocessing import MinMaxScaler, StandardScaler\n",
    "from sklearn.cluster import KMeans, AgglomerativeClustering, DBSCAN\n",
    "from sklearn.metrics import accuracy_score\n",
    "\n",
    "from scipy.cluster.hierarchy import dendrogram \n",
    "from scipy.stats import mode"
   ]
  },
  {
   "cell_type": "markdown",
   "metadata": {},
   "source": [
    "#  DBCluster class"
   ]
  },
  {
   "cell_type": "code",
   "execution_count": 2,
   "metadata": {},
   "outputs": [],
   "source": [
    "class DBCluster:\n",
    "    \"\"\"DBCluster class\"\"\"\n",
    "\n",
    "\n",
    "    def __init__(self, n_clusters, D):\n",
    "        \"\"\" Initializes the DBCluster instance \"\"\"\n",
    "        self.n_clusters = n_clusters\n",
    "        self._D = D.copy()\n",
    "        self._current_partition = [np.array(range(D.shape[0]))] #Po\n",
    "        self._partition_history = []\n",
    "        print(self)\n",
    "    \n",
    "    @staticmethod\n",
    "    def _get_indexes(target, myList):\n",
    "        \"\"\" Returns the indexes where the list 'myList' contains the \n",
    "            specified element 'target'\n",
    "        \"\"\"\n",
    "        for i in range(len(myList)):\n",
    "            if myList[i] == target:\n",
    "                yield i\n",
    "                \n",
    "            \n",
    "    def __str__(self):\n",
    "        \"\"\" Provides a text representation of the DBCluster instance \"\"\"\n",
    "        return \"DBCluster(n_clusters={})\".format(self._n_clusters)\n",
    "    \n",
    "    def get_partition_history(self):\n",
    "        \"\"\" Gets the partition history \"\"\"\n",
    "        return self._partition_history.copy() \n",
    "    \n",
    "    def _geometric_var(self, cluster):\n",
    "        \"\"\" Obtains the geometric variability of a subset of points \"\"\"\n",
    "        m = len(cluster)        \n",
    "        g_var = 0 \n",
    "\n",
    "        for i in range(len(cluster)):\n",
    "            for j in range(i,len(cluster)):\n",
    "                g_var += (self._D[i][j]**2)\n",
    "\n",
    "        return g_var /(2*(m**2))\n",
    "    \n",
    "    def divide(self):\n",
    "        \"\"\" DBCluster algorithm \"\"\"\n",
    "        \n",
    "        while len(self._current_partition) < self._n_clusters:\n",
    "                        \n",
    "            # Obtain all possible divisions\n",
    "            all_divisions = self._get_possible_divisions()\n",
    "            g_var = np.empty(len(all_divisions), dtype=float)\n",
    "            \n",
    "            # Compute the geometric variability of each possible division\n",
    "            for i, d in enumerate(all_divisions): \n",
    "                cluster = self._current_partition[d[\"cluster\"]]\n",
    "                subcluster_1 = np.array(cluster[d[\"subcluster1\"]])\n",
    "                subcluster_2 = np.array(cluster[d[\"subcluster2\"]])\n",
    "                g_var[i] = self._geometric_var(subcluster_1) + self._geometric_var(subcluster_2)\n",
    "                \n",
    "            # Get the optimal division (minimal geometric variability)\n",
    "            opt_division = all_divisions[np.argmin(g_var)]\n",
    "            cluster = self._current_partition[opt_division[\"cluster\"]]\n",
    "            new_cluster_1 = np.array(cluster[opt_division[\"subcluster1\"]])\n",
    "            new_cluster_2 = np.array(cluster[opt_division[\"subcluster2\"]])            \n",
    "            \n",
    "            # Add the new partition to the history\n",
    "            self._partition_history.append(self._current_partition[:])\n",
    "            \n",
    "            # Modify the partition\n",
    "            del self._current_partition[opt_division[\"cluster\"]]\n",
    "            self._current_partition.append(new_cluster_1)\n",
    "            self._current_partition.append(new_cluster_2)\n",
    "        \n",
    "        self._partition_history.append(self._current_partition[:])\n",
    "                       \n",
    "    \n",
    "    def _get_possible_divisions(self):  \n",
    "        \"\"\" Generates all possible divisions given the current partition \"\"\"\n",
    "        all_divisions = []\n",
    "        \n",
    "        for index, cluster in enumerate(self._current_partition):\n",
    "            binary_combinations = list(itertools.product([0, 1], repeat=len(cluster)))\n",
    "\n",
    "            for comb in binary_combinations:\n",
    "                if len(np.unique(comb)) > 1:\n",
    "                    zero_indexes = list(DBCluster._get_indexes(0, list(comb)))\n",
    "                    one_indexes = list(DBCluster._get_indexes(1, list(comb))) \n",
    "                    division = {\"cluster\":index, \"subcluster1\":np.array(zero_indexes), \"subcluster2\":np.array(one_indexes)}\n",
    "                    all_divisions.append(division)\n",
    "\n",
    "        return all_divisions\n",
    "    "
   ]
  },
  {
   "cell_type": "markdown",
   "metadata": {},
   "source": [
    "### Test"
   ]
  },
  {
   "cell_type": "code",
   "execution_count": 193,
   "metadata": {},
   "outputs": [],
   "source": [
    "D = np.array([ \n",
    "    [0, 1, 3, 4, 7],\n",
    "    [1, 0, 4, 4, 8],\n",
    "    [3, 4, 0, 2, 8],\n",
    "    [4, 4, 2, 0, 7],\n",
    "    [7, 8, 8, 7, 0]\n",
    "])"
   ]
  },
  {
   "cell_type": "code",
   "execution_count": 194,
   "metadata": {},
   "outputs": [
    {
     "name": "stdout",
     "output_type": "stream",
     "text": [
      "DBCluster(n_clusters=5)\n"
     ]
    }
   ],
   "source": [
    "db = DBCluster(5, D)\n",
    "db.divide()"
   ]
  },
  {
   "cell_type": "code",
   "execution_count": 195,
   "metadata": {},
   "outputs": [
    {
     "data": {
      "text/plain": [
       "[[array([0, 1, 2, 3, 4])],\n",
       " [array([0, 1, 2]), array([3, 4])],\n",
       " [array([0, 1, 2]), array([3]), array([4])],\n",
       " [array([3]), array([4]), array([0, 1]), array([2])],\n",
       " [array([3]), array([4]), array([2]), array([0]), array([1])]]"
      ]
     },
     "execution_count": 195,
     "metadata": {},
     "output_type": "execute_result"
    }
   ],
   "source": [
    "db.get_partition_history()"
   ]
  }
 ],
 "metadata": {
  "kernelspec": {
   "display_name": "Python 3",
   "language": "python",
   "name": "python3"
  },
  "language_info": {
   "codemirror_mode": {
    "name": "ipython",
    "version": 3
   },
   "file_extension": ".py",
   "mimetype": "text/x-python",
   "name": "python",
   "nbconvert_exporter": "python",
   "pygments_lexer": "ipython3",
   "version": "3.7.3"
  }
 },
 "nbformat": 4,
 "nbformat_minor": 2
}
