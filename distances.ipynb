{
 "cells": [
  {
   "cell_type": "markdown",
   "metadata": {},
   "source": [
    "## Pablo Valdunciel Sánchez \n",
    "### 7th October, 2019\n",
    "\n",
    "Given two samples X and Y, compute the following distances:\n",
    "\n",
    "- Euclidean\n",
    "- Minkowsky with q=1 y q=3\n",
    "- Mahalanobis"
   ]
  },
  {
   "cell_type": "code",
   "execution_count": 11,
   "metadata": {},
   "outputs": [],
   "source": [
    "from scipy.spatial.distance import euclidean, minkowski, mahalanobis\n",
    "import numpy as np"
   ]
  },
  {
   "cell_type": "code",
   "execution_count": 4,
   "metadata": {},
   "outputs": [
    {
     "data": {
      "text/plain": [
       "array([2.1, 3.1, 3.4, 1.9])"
      ]
     },
     "execution_count": 4,
     "metadata": {},
     "output_type": "execute_result"
    }
   ],
   "source": [
    "X = np.array([2.1, 3.1, 3.4, 1.9])\n",
    "X"
   ]
  },
  {
   "cell_type": "code",
   "execution_count": 5,
   "metadata": {},
   "outputs": [
    {
     "data": {
      "text/plain": [
       "array([1.2, 2. , 1.7, 3.6])"
      ]
     },
     "execution_count": 5,
     "metadata": {},
     "output_type": "execute_result"
    }
   ],
   "source": [
    "Y = np.array([1.2, 2, 1.7, 3.6])\n",
    "Y"
   ]
  },
  {
   "cell_type": "code",
   "execution_count": 6,
   "metadata": {},
   "outputs": [
    {
     "data": {
      "text/plain": [
       "array([[0.5 , 0.  , 0.  , 0.  ],\n",
       "       [0.  , 0.25, 0.  , 0.  ],\n",
       "       [0.  , 0.  , 0.25, 0.  ],\n",
       "       [0.  , 0.  , 0.  , 0.5 ]])"
      ]
     },
     "execution_count": 6,
     "metadata": {},
     "output_type": "execute_result"
    }
   ],
   "source": [
    "S = np.array([[2, 0, 0, 0], \n",
    "              [0, 4, 0, 0],\n",
    "              [0, 0, 4, 0],\n",
    "              [0, 0, 0, 2]])\n",
    "inv_S = np.linalg.inv(S)\n",
    "inv_S"
   ]
  },
  {
   "cell_type": "code",
   "execution_count": 7,
   "metadata": {},
   "outputs": [],
   "source": [
    "d_euclidean = euclidean(X,Y)"
   ]
  },
  {
   "cell_type": "code",
   "execution_count": 8,
   "metadata": {},
   "outputs": [],
   "source": [
    "d_minkowsky_1 = minkowski(X,Y,1)\n",
    "d_minkowsky_3 = minkowski(X,Y,3)"
   ]
  },
  {
   "cell_type": "code",
   "execution_count": 9,
   "metadata": {},
   "outputs": [],
   "source": [
    "d_mahalanobis = mahalanobis(X, Y, inv_S)"
   ]
  },
  {
   "cell_type": "code",
   "execution_count": 10,
   "metadata": {},
   "outputs": [
    {
     "name": "stdout",
     "output_type": "stream",
     "text": [
      "Distances:\n",
      "- Euclidean: 2.7928480087537886\n",
      "- Minkowsky (q=1). 5.4\n",
      "- Minkowsky (q=3): 2.282155548417709\n",
      "- Mahalanobis: 1.6955824957813173\n"
     ]
    }
   ],
   "source": [
    "print(\"Distances:\" + \n",
    "      \"\\n- Euclidean: \" + str(d_euclidean) +\n",
    "      \"\\n- Minkowsky (q=1). \" + str(d_minkowsky_1) +\n",
    "      \"\\n- Minkowsky (q=3): \" + str(d_minkowsky_3) + \n",
    "      \"\\n- Mahalanobis: \" + str(d_mahalanobis))"
   ]
  }
 ],
 "metadata": {
  "kernelspec": {
   "display_name": "Python 3",
   "language": "python",
   "name": "python3"
  },
  "language_info": {
   "codemirror_mode": {
    "name": "ipython",
    "version": 3
   },
   "file_extension": ".py",
   "mimetype": "text/x-python",
   "name": "python",
   "nbconvert_exporter": "python",
   "pygments_lexer": "ipython3",
   "version": "3.7.3"
  }
 },
 "nbformat": 4,
 "nbformat_minor": 2
}
