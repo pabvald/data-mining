{
 "cells": [
  {
   "cell_type": "markdown",
   "metadata": {},
   "source": [
    "# Self-Organized Map (SOM)\n",
    "\n",
    "## Pablo Valdunciel Sánchez \n",
    "## 1st December, 2019"
   ]
  },
  {
   "cell_type": "markdown",
   "metadata": {},
   "source": [
    "## Imports"
   ]
  },
  {
   "cell_type": "code",
   "execution_count": 1,
   "metadata": {},
   "outputs": [
    {
     "name": "stderr",
     "output_type": "stream",
     "text": [
      "Using TensorFlow backend.\n"
     ]
    }
   ],
   "source": [
    "import numpy as np \n",
    "import random\n",
    "import math\n",
    "from keras.datasets import mnist\n",
    "import matplotlib.pyplot as plt\n",
    "\n",
    "from sklearn.datasets import load_iris\n",
    "from sklearn.preprocessing import MinMaxScaler\n",
    "from sklearn.model_selection import train_test_split\n",
    "from sklearn.metrics import  accuracy_score\n",
    "\n",
    "from scipy.spatial.distance import euclidean\n",
    "from scipy.stats import mode"
   ]
  },
  {
   "cell_type": "markdown",
   "metadata": {},
   "source": [
    "# Data preparation"
   ]
  },
  {
   "cell_type": "code",
   "execution_count": 13,
   "metadata": {},
   "outputs": [
    {
     "name": "stdout",
     "output_type": "stream",
     "text": [
      "(60000, 784) (10000, 784) (60000,) (10000,)\n"
     ]
    }
   ],
   "source": [
    "# IRIS\n",
    "dataset = load_iris()\n",
    "iris_X = dataset[\"data\"]\n",
    "iris_X = MinMaxScaler().fit_transform(iris_X)\n",
    "iris_Y = dataset[\"target\"]\n",
    "iris_x_train, iris_x_test, iris_y_train, iris_y_test = train_test_split(iris_X, iris_Y, test_size=0.33, random_state=42, stratify=iris_Y)\n",
    "\n",
    "# MNIST\n",
    "(x_train, y_train), (x_test, y_test) = mnist.load_data()\n",
    "\n",
    "x_test = x_test.reshape(x_test.shape[0], x_test.shape[1]*x_test.shape[2])\n",
    "x_train = x_train.reshape(x_train.shape[0], x_train.shape[1]*x_train.shape[2])\n",
    "x_train = MinMaxScaler().fit_transform(x_train)\n",
    "x_test = MinMaxScaler().fit_transform(x_test)\n",
    "\n",
    "print(x_train.shape, x_test.shape, y_train.shape, y_test.shape)"
   ]
  },
  {
   "cell_type": "markdown",
   "metadata": {},
   "source": [
    "## SOM class"
   ]
  },
  {
   "cell_type": "code",
   "execution_count": 3,
   "metadata": {},
   "outputs": [],
   "source": [
    "class SOM: \n",
    "    \"\"\"Self-Organized Map class\"\"\"\n",
    "    \n",
    "    def __init__(self, n, rows, cols, max_iteration=1000, initial_alpha=1, \n",
    "                 final_alpha=0.001, initial_radius=None, final_radius=0, verbose=False, print_step=1):\n",
    "        \"\"\"Constructor\"\"\"\n",
    "        self.__initial_alpha = initial_alpha\n",
    "        self.__final_alpha = final_alpha\n",
    "        self.__initial_radius = math.ceil(min(rows,cols)/2) if not initial_radius else initial_radius\n",
    "        self.__final_radius = final_radius\n",
    "        self.__iteration = 0\n",
    "        self.__max_iteration = max_iteration         \n",
    "        self.__codebook =  np.random.rand(rows,cols,n)\n",
    "        self.__verbose = verbose\n",
    "        self.__print_step = print_step\n",
    "        \n",
    "        print(self)\n",
    "        \n",
    "    # ---------------------------------------------- Properties ---------------------------------------------# \n",
    "    @property\n",
    "    def rows(self):\n",
    "        return self.__codebook.shape[0]\n",
    "    \n",
    "    @property\n",
    "    def cols(self):\n",
    "        return self.__codebook.shape[1]   \n",
    "   \n",
    "    @property\n",
    "    def __n(self):\n",
    "        return self.__codebook.shape[2]\n",
    "    \n",
    "    @property   \n",
    "    def __alpha(self): \n",
    "        return self.__initial_alpha+(self.__final_alpha-self.__initial_alpha)*(self.__iteration/self.__max_iteration)\n",
    "\n",
    "    @property\n",
    "    def __radius(self):\n",
    "        return max(self.__final_radius, self.__initial_radius - self.__iteration)\n",
    "          \n",
    "    \n",
    "    # --------------------------------------------- Methods -----------------------------------------------------#\n",
    "    @staticmethod\n",
    "    def print_mapping(neuron_labels):\n",
    "        \"\"\"Plots the a SOM's labeling\"\"\"\n",
    "        rows = neuron_labels.shape[0]\n",
    "        cols = neuron_labels.shape[1]\n",
    "        \n",
    "        fig, ax = plt.subplots()        \n",
    "        im = ax.imshow(neuron_labels)\n",
    "\n",
    "        # Show all ticks \n",
    "        ax.set_xticks(np.arange(cols))\n",
    "        ax.set_yticks(np.arange(rows))\n",
    "        \n",
    "        # Label the ticks with the row/col number\n",
    "        ax.set_xticklabels(range(cols))\n",
    "        ax.set_yticklabels(range(rows))\n",
    "        \n",
    "        # Adjust axis\n",
    "        ax.set_xticks(np.arange(cols+1)-.5, minor=True)\n",
    "        ax.set_yticks(np.arange(rows+1)-.5, minor=True)\n",
    "        \n",
    "        # Add the label to each position\n",
    "        for i in range(rows):\n",
    "            for j in range(cols):\n",
    "                if neuron_labels[i][j] != None:\n",
    "                    text = ax.text(j, i, neuron_labels[i, j],\n",
    "                               ha=\"center\", va=\"center\", color=\"w\")\n",
    "\n",
    "        ax.set_title(\"SOM mapping\")\n",
    "        fig.tight_layout()\n",
    "        plt.show()\n",
    "        \n",
    "    def __str__(self):\n",
    "        \"\"\"Gets a string representation of the SOM object\"\"\"\n",
    "        return \"SOM (n={}, rows={}, cols={}, max_iteration={}, initial_alpha={}, final_alpha={}, initial_radius={}, final_radius={}, verbose={}\".format(self.__n, self.rows, self.cols, self.__max_iteration, self.__initial_alpha, self.__final_alpha, self.__initial_radius, self.__final_radius, self.__verbose)\n",
    "        \n",
    "        \n",
    "    def __get_bmu(self, xv):\n",
    "        \"\"\"Get the closest neuron to an instance\"\"\"\n",
    "        min_distance = np.finfo(np.float128).max\n",
    "        bmu = None\n",
    "\n",
    "        for i in range(self.rows):\n",
    "            for j in range(self.cols):\n",
    "                distance = self.get_distance_to_neuron(i,j,xv)\n",
    "                if distance < min_distance:\n",
    "                    min_distance = distance \n",
    "                    bmu = np.array([i,j])\n",
    "        return bmu \n",
    "        \n",
    "        \n",
    "    def __get_neighbors_matrix(self, ui, uj):\n",
    "        \"\"\"Obtain a matrix indicating which neurons are within the neighbourhood \n",
    "           of a given neuron\"\"\"\n",
    "        neighbors = np.zeros((self.rows, self.cols, self.__n), dtype=float)\n",
    "        upper_i = (ui+self.__radius)\n",
    "        lower_i = (ui-self.__radius) \n",
    "        upper_j = (uj+self.__radius) \n",
    "        lower_j = (uj-self.__radius)\n",
    "        for i in range(lower_i, upper_i+1):\n",
    "            for j in range(lower_j, upper_j+1):       \n",
    "                neighbors[i%self.rows][j%self.cols] = 1.0  \n",
    "                \n",
    "        return neighbors\n",
    "   \n",
    "        \n",
    "    def fit(self, D):\n",
    "        \"\"\" Fit the SOM with a given data set D\"\"\"\n",
    "        self.__P = D.shape[0]\n",
    "    \n",
    "        while self.__iteration < self.__max_iteration:  \n",
    "            \n",
    "            if self.__verbose:\n",
    "                    print(\"\\n\\nEpoch {}, radius = {}, alpha = {}\".format(self.__iteration, self.__radius, self.__alpha))\n",
    "                    \n",
    "            for v in range(self.__P):              \n",
    "                if self.__verbose and (v%self.__print_step == 0):\n",
    "                    print(v, end = '  ')\n",
    "                    \n",
    "                i = np.random.randint(low=0, high=self.__P)\n",
    "                xv = D[i]                    \n",
    "                bmu = self.__get_bmu(xv)  # Calculate the BMU\n",
    "                neighbors = self.__get_neighbors_matrix(bmu[0], bmu[1])  # Get BMU neighbors\n",
    "\n",
    "                # Modify weigths of the BMU's neighbors  \n",
    "                self.__codebook = self.__codebook + self.__alpha*(np.subtract((neighbors*xv),(neighbors*self.__codebook)))\n",
    "\n",
    "            # Increase the iteration (affects the alpha and the radius)\n",
    "            self.__iteration += 1 \n",
    "            \n",
    "    def get_neuron_weights(self, i, j):\n",
    "        \"\"\"Get a given neuron's weights vector\"\"\"\n",
    "        if i >= self.rows or j >= self.cols:\n",
    "             raise IndexError('list index out of range')\n",
    "                \n",
    "        return self.__codebook[i,j,:]\n",
    "         \n",
    "    \n",
    "    def get_distance_to_neuron(self, i, j, xv):\n",
    "        \"\"\"Obtain the distance between an instance and a certain neuron\"\"\"\n",
    "        return euclidean(self.__codebook[i,j,:], xv)\n",
    "    \n",
    "    def closest_neuron(self, D):\n",
    "        \"\"\"Obtain the closest neuron to each instance of a given data set D\"\"\"\n",
    "        closest_neurons = np.zeros((D.shape[0],2), dtype=int)\n",
    "        \n",
    "        for v in range(D.shape[0]):\n",
    "            bmu = self.__get_bmu(D[v])\n",
    "            closest_neurons[v] = bmu \n",
    "            \n",
    "        return closest_neurons\n",
    "    \n",
    "    \n",
    "    def mode_labeling(self, X, Y):\n",
    "        \"\"\"\"\"\"\n",
    "        neurons = self.closest_neuron(X)\n",
    "        mode_labels = np.empty((self.rows, self.cols), dtype=float)\n",
    "\n",
    "        for row in range(self.rows):\n",
    "            for col in range(self.cols):\n",
    "                neuron_labels = []        \n",
    "                for i in range(neurons.shape[0]):\n",
    "                    if (neurons[i][0] == row) and (neurons[i][1] == col):\n",
    "                        neuron_labels.append(Y[i])\n",
    "\n",
    "                if len(neuron_labels) > 0:       \n",
    "                    mode_labels[row][col] =  mode(neuron_labels)[0]\n",
    "                else:\n",
    "                    mode_labels[row][col] = None\n",
    "        \n",
    "        return mode_labels \n",
    "    \n",
    "    \n",
    "    def neuron_labeling(self, X, Y):\n",
    "        \"\"\"Calculates the the closest intance to each neuron and assigns its label to that neuron\"\"\"\n",
    "        neuron_labels = np.empty((self.rows, self.cols), dtype=float)\n",
    "\n",
    "        for row in range(self.rows):\n",
    "            for col in range(self.cols):\n",
    "                closest_label = None         \n",
    "                distances_to_neuron = np.array(list(map(lambda x : self.get_distance_to_neuron(row, col, x), X)))\n",
    "                closest_label = Y[np.argmin(distances_to_neuron, axis=0)]\n",
    "                neuron_labels[row, col] = closest_label \n",
    "        \n",
    "        return neuron_labels    "
   ]
  },
  {
   "cell_type": "markdown",
   "metadata": {},
   "source": [
    "###  Iris data set"
   ]
  },
  {
   "cell_type": "code",
   "execution_count": 4,
   "metadata": {
    "scrolled": true
   },
   "outputs": [
    {
     "name": "stdout",
     "output_type": "stream",
     "text": [
      "SOM (n=4, rows=3, cols=5, max_iteration=150, initial_alpha=1, final_alpha=0.001, initial_radius=2, final_radius=0, verbose=False\n"
     ]
    }
   ],
   "source": [
    "MAP_ROWS = 3\n",
    "MAP_COLS = 5\n",
    "ITERATIONS = 150\n",
    "\n",
    "som = SOM(iris_x_train.shape[1], MAP_ROWS, MAP_COLS, max_iteration= ITERATIONS, initial_alpha=1)\n",
    "som.fit(iris_x_train)"
   ]
  },
  {
   "cell_type": "code",
   "execution_count": 5,
   "metadata": {},
   "outputs": [],
   "source": [
    "# Get closest (output) neuron for each test instance\n",
    "closest_neurons = som.closest_neuron(iris_x_test)"
   ]
  },
  {
   "cell_type": "markdown",
   "metadata": {},
   "source": [
    "#### MODE classification"
   ]
  },
  {
   "cell_type": "code",
   "execution_count": 6,
   "metadata": {},
   "outputs": [
    {
     "name": "stdout",
     "output_type": "stream",
     "text": [
      "\n",
      "--- IRIS ---\n",
      "Hit rate = 1.0\n"
     ]
    },
    {
     "data": {
      "image/png": "[encoded data removed]",
      "text/plain": [
       "<Figure size 432x288 with 1 Axes>"
      ]
     },
     "metadata": {
      "needs_background": "light"
     },
     "output_type": "display_data"
    }
   ],
   "source": [
    "print(\"\\n--- IRIS ---\")\n",
    "# Get neuron labels applying 'mode labeling'\n",
    "mode_labels = som.mode_labeling(iris_x_test, iris_y_test)\n",
    "\n",
    "# Predict\n",
    "prediction = np.empty((closest_neurons.shape[0]), dtype=float)\n",
    "for i in range(prediction.shape[0]):\n",
    "    prediction[i] = mode_labels[closest_neurons[i][0]][closest_neurons[i][1]]\n",
    "\n",
    "# Calculate hit rate \n",
    "hit_rate = accuracy_score(prediction, iris_y_test)\n",
    "print(\"Hit rate = {}\".format(hit_rate))\n",
    "\n",
    "# Print mapping\n",
    "SOM.print_mapping(mode_labels)"
   ]
  },
  {
   "cell_type": "markdown",
   "metadata": {},
   "source": [
    "#### Neuron classification"
   ]
  },
  {
   "cell_type": "code",
   "execution_count": 7,
   "metadata": {},
   "outputs": [
    {
     "name": "stdout",
     "output_type": "stream",
     "text": [
      "\n",
      "--- IRIS ---\n",
      "Hit rate = 1.0\n"
     ]
    },
    {
     "data": {
      "image/png": "[encoded data removed]",
      "text/plain": [
       "<Figure size 432x288 with 1 Axes>"
      ]
     },
     "metadata": {
      "needs_background": "light"
     },
     "output_type": "display_data"
    }
   ],
   "source": [
    "print(\"\\n--- IRIS ---\")\n",
    "# Get neuron labels applying 'neuron labeling'\n",
    "neuron_labels = som.neuron_labeling(iris_x_test, iris_y_test)\n",
    "\n",
    "# Predict\n",
    "prediction = np.empty((closest_neurons.shape[0]), dtype=float)\n",
    "\n",
    "for i in range(prediction.shape[0]):\n",
    "    prediction[i] = neuron_labels[closest_neurons[i][0]][closest_neurons[i][1]]\n",
    "\n",
    "# Calculate hit rate \n",
    "hit_rate = accuracy_score(prediction, iris_y_test)\n",
    "print(\"Hit rate = {}\".format(hit_rate))\n",
    "\n",
    "# Print mapping \n",
    "SOM.print_mapping(neuron_labels)"
   ]
  },
  {
   "cell_type": "markdown",
   "metadata": {},
   "source": [
    "### Mnist data set "
   ]
  },
  {
   "cell_type": "code",
   "execution_count": 9,
   "metadata": {},
   "outputs": [
    {
     "name": "stdout",
     "output_type": "stream",
     "text": [
      "SOM (n=784, rows=8, cols=12, max_iteration=13, initial_alpha=2, final_alpha=0.001, initial_radius=4, final_radius=0, verbose=True\n",
      "\n",
      "\n",
      "Epoch 0, radius = 4, alpha = 2.0\n",
      "0  2000  4000  6000  8000  10000  12000  14000  16000  18000  20000  22000  24000  26000  28000  30000  32000  34000  36000  38000  40000  42000  44000  46000  48000  50000  52000  54000  56000  58000  \n",
      "\n",
      "Epoch 1, radius = 3, alpha = 1.8462307692307691\n",
      "0  2000  4000  6000  8000  10000  12000  14000  16000  18000  20000  22000  24000  26000  28000  30000  32000  34000  36000  38000  40000  42000  44000  46000  48000  50000  52000  54000  56000  58000  \n",
      "\n",
      "Epoch 2, radius = 2, alpha = 1.6924615384615385\n",
      "0  2000  4000  6000  8000  10000  12000  14000  16000  18000  20000  22000  24000  26000  28000  30000  32000  34000  36000  38000  40000  42000  44000  46000  48000  50000  52000  54000  56000  58000  \n",
      "\n",
      "Epoch 3, radius = 1, alpha = 1.5386923076923076\n",
      "0  2000  4000  6000  8000  10000  12000  14000  16000  18000  20000  22000  24000  26000  28000  30000  32000  34000  36000  38000  40000  42000  44000  46000  48000  50000  52000  54000  56000  58000  \n",
      "\n",
      "Epoch 4, radius = 0, alpha = 1.384923076923077\n",
      "0  2000  4000  6000  8000  10000  12000  14000  16000  18000  20000  22000  24000  26000  28000  30000  32000  34000  36000  38000  40000  42000  44000  46000  48000  50000  52000  54000  56000  58000  \n",
      "\n",
      "Epoch 5, radius = 0, alpha = 1.231153846153846\n",
      "0  2000  4000  6000  8000  10000  12000  14000  16000  18000  20000  22000  24000  26000  28000  30000  32000  34000  36000  38000  40000  42000  44000  46000  48000  50000  52000  54000  56000  58000  \n",
      "\n",
      "Epoch 6, radius = 0, alpha = 1.0773846153846152\n",
      "0  2000  4000  6000  8000  10000  12000  14000  16000  18000  20000  22000  24000  26000  28000  30000  32000  34000  36000  38000  40000  42000  44000  46000  48000  50000  52000  54000  56000  58000  \n",
      "\n",
      "Epoch 7, radius = 0, alpha = 0.9236153846153845\n",
      "0  2000  4000  6000  8000  10000  12000  14000  16000  18000  20000  22000  24000  26000  28000  30000  32000  34000  36000  38000  40000  42000  44000  46000  48000  50000  52000  54000  56000  58000  \n",
      "\n",
      "Epoch 8, radius = 0, alpha = 0.7698461538461536\n",
      "0  2000  4000  6000  8000  10000  12000  14000  16000  18000  20000  22000  24000  26000  28000  30000  32000  34000  36000  38000  40000  42000  44000  46000  48000  50000  52000  54000  56000  58000  \n",
      "\n",
      "Epoch 9, radius = 0, alpha = 0.616076923076923\n",
      "0  2000  4000  6000  8000  10000  12000  14000  16000  18000  20000  22000  24000  26000  28000  30000  32000  34000  36000  38000  40000  42000  44000  46000  48000  50000  52000  54000  56000  58000  \n",
      "\n",
      "Epoch 10, radius = 0, alpha = 0.4623076923076921\n",
      "0  2000  4000  6000  8000  10000  12000  14000  16000  18000  20000  22000  24000  26000  28000  30000  32000  34000  36000  38000  40000  42000  44000  46000  48000  50000  52000  54000  56000  58000  \n",
      "\n",
      "Epoch 11, radius = 0, alpha = 0.30853846153846143\n",
      "0  2000  4000  6000  8000  10000  12000  14000  16000  18000  20000  22000  24000  26000  28000  30000  32000  34000  36000  38000  40000  42000  44000  46000  48000  50000  52000  54000  56000  58000  \n",
      "\n",
      "Epoch 12, radius = 0, alpha = 0.15476923076923055\n",
      "0  2000  4000  6000  8000  10000  12000  14000  16000  18000  20000  22000  24000  26000  28000  30000  32000  34000  36000  38000  40000  42000  44000  46000  48000  50000  52000  54000  56000  58000  "
     ]
    }
   ],
   "source": [
    "MAP_ROWS = 8\n",
    "MAP_COLS = 12\n",
    "ITERATIONS = 13\n",
    "\n",
    "som = SOM(x_train.shape[1], MAP_ROWS, MAP_COLS, max_iteration=ITERATIONS, initial_alpha=2, verbose=True, print_step=2000)\n",
    "som.fit(x_train)"
   ]
  },
  {
   "cell_type": "code",
   "execution_count": 19,
   "metadata": {},
   "outputs": [],
   "source": [
    "# Get closest (output) neuron for each test instance\n",
    "closest_neurons = som.closest_neuron(x_test)"
   ]
  },
  {
   "cell_type": "markdown",
   "metadata": {},
   "source": [
    "#### Mode classification"
   ]
  },
  {
   "cell_type": "code",
   "execution_count": 20,
   "metadata": {},
   "outputs": [
    {
     "name": "stdout",
     "output_type": "stream",
     "text": [
      "\n",
      "--- MNIST - Mode classification ---\n",
      "Hit rate = 0.8346\n"
     ]
    },
    {
     "data": {
      "image/png": "[encoded data removed]",
      "text/plain": [
       "<Figure size 432x288 with 1 Axes>"
      ]
     },
     "metadata": {
      "needs_background": "light"
     },
     "output_type": "display_data"
    }
   ],
   "source": [
    "print(\"\\n--- MNIST - Mode classification ---\")\n",
    "# Get neuron labels applying 'neuron labeling'\n",
    "mode_labels = som.mode_labeling(x_test, y_test)\n",
    "\n",
    "# Predict\n",
    "prediction = []\n",
    "for i in range(closest_neurons.shape[0]):\n",
    "    prediction.append(mode_labels[closest_neurons[i][0]][closest_neurons[i][1]])\n",
    "\n",
    "# Calculate hit rate \n",
    "hit_rate = accuracy_score(prediction, y_test)\n",
    "print(\"Hit rate = {}\".format(hit_rate))\n",
    "\n",
    "# Print mapping\n",
    "SOM.print_mapping(mode_labels)"
   ]
  },
  {
   "cell_type": "code",
   "execution_count": 21,
   "metadata": {},
   "outputs": [
    {
     "name": "stdout",
     "output_type": "stream",
     "text": [
      "\n",
      "--- MNIST - Neuron classification ---\n",
      "Hit rate = 0.8261\n"
     ]
    },
    {
     "data": {
      "image/png": "[encoded data removed]",
      "text/plain": [
       "<Figure size 432x288 with 1 Axes>"
      ]
     },
     "metadata": {
      "needs_background": "light"
     },
     "output_type": "display_data"
    }
   ],
   "source": [
    "print(\"\\n--- MNIST - Neuron classification ---\")\n",
    "# Get neuron labels applying 'neuron labeling'\n",
    "neuron_labels = som.neuron_labeling(x_test, y_test)\n",
    "\n",
    "# Predict\n",
    "prediction = np.empty((y_test.shape[0]), dtype=float)\n",
    "\n",
    "for i in range(prediction.shape[0]):\n",
    "    prediction[i] = neuron_labels[closest_neurons[i][0]][closest_neurons[i][1]]\n",
    "\n",
    "# Calculate hit rate \n",
    "hit_rate = accuracy_score(prediction, y_test)\n",
    "print(\"Hit rate = {}\".format(hit_rate))\n",
    "\n",
    "# Print mapping \n",
    "SOM.print_mapping(neuron_labels)"
   ]
  }
 ],
 "metadata": {
  "kernelspec": {
   "display_name": ".env",
   "language": "python",
   "name": ".env"
  },
  "language_info": {
   "codemirror_mode": {
    "name": "ipython",
    "version": 3
   },
   "file_extension": ".py",
   "mimetype": "text/x-python",
   "name": "python",
   "nbconvert_exporter": "python",
   "pygments_lexer": "ipython3",
   "version": "3.7.3"
  }
 },
 "nbformat": 4,
 "nbformat_minor": 2
}
