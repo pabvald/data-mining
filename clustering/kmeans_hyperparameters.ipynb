{
 "cells": [
  {
   "cell_type": "markdown",
   "metadata": {},
   "source": [
    "## Pablo Valdunciel Sánchez \n",
    "## 14th October, 2019\n",
    "Evaluate the how the number of clusters, k, and the initial centers affect the Kmeans algorithm.\n"
   ]
  },
  {
   "cell_type": "markdown",
   "metadata": {},
   "source": [
    "# Imports"
   ]
  },
  {
   "cell_type": "code",
   "execution_count": 13,
   "metadata": {},
   "outputs": [],
   "source": [
    "import numpy as np \n",
    "import matplotlib.pyplot as plt\n",
    "\n",
    "from sklearn.cluster import KMeans \n",
    "from sklearn.preprocessing import MinMaxScaler \n",
    "from sklearn.model_selection import StratifiedKFold\n",
    "from sklearn.datasets import load_iris\n",
    "from sklearn.metrics import accuracy_score\n",
    "\n",
    "from scipy.stats import mode"
   ]
  },
  {
   "cell_type": "markdown",
   "metadata": {},
   "source": [
    "# Data preparation"
   ]
  },
  {
   "cell_type": "code",
   "execution_count": 14,
   "metadata": {},
   "outputs": [
    {
     "name": "stdout",
     "output_type": "stream",
     "text": [
      "(150, 4) (150,)\n"
     ]
    }
   ],
   "source": [
    "# Obtener datos\n",
    "dataset = load_iris() \n",
    "X = dataset[\"data\"]\n",
    "Y = dataset[\"target\"]\n",
    "\n",
    "# Normalizar atributos \n",
    "X = MinMaxScaler().fit_transform(X)\n",
    "\n",
    "print(X.shape, Y.shape)"
   ]
  },
  {
   "cell_type": "markdown",
   "metadata": {},
   "source": [
    "# Evaluate the variation of the number of clusters, K"
   ]
  },
  {
   "cell_type": "code",
   "execution_count": 15,
   "metadata": {},
   "outputs": [],
   "source": [
    "def get_indexes(target, myList):\n",
    "    \"\"\"Returns the indexes of where the list 'myList' \n",
    "       contains the element 'target'\"\"\"\n",
    "    for i in range(len(myList)):\n",
    "        if myList[i] == target:\n",
    "            yield i"
   ]
  },
  {
   "cell_type": "code",
   "execution_count": 16,
   "metadata": {},
   "outputs": [],
   "source": [
    "FOLDS = 10\n",
    "MIN_CLUSTERS = 3 \n",
    "MAX_CLUSTERS = 12 \n",
    "NUM_CLUSTERS = MAX_CLUSTERS - MIN_CLUSTERS + 1 \n",
    "\n",
    "skf = StratifiedKFold(n_splits=FOLDS, shuffle=True, random_state=0) \n",
    "hit_rates = [0]*NUM_CLUSTERS\n",
    "\n",
    "for k in range(MIN_CLUSTERS, MAX_CLUSTERS+1):\n",
    "    hit_rate = 0\n",
    "    for train_index, test_index in skf.split(X, Y):\n",
    "        X_train, X_test = X[train_index], X[test_index]\n",
    "        Y_train, Y_test = Y[train_index], Y[test_index]        \n",
    "        mode_values = [None] * k\n",
    "        \n",
    "        kmeans = KMeans(n_clusters=k, random_state=1).fit(X_train)\n",
    "        test_prediction = kmeans.predict(X_test)        \n",
    "        \n",
    "        for cluster in range(k):\n",
    "            cluster_indexes = list(get_indexes(cluster, test_prediction))\n",
    "            cluster_labels = Y_test[cluster_indexes]\n",
    "            mode_values[cluster] = mode(cluster_labels)[0]\n",
    "        \n",
    "        t_test_prediction = list(map(lambda x : mode_values[x], test_prediction))\n",
    "        hit_rate += accuracy_score(t_test_prediction, Y_test)\n",
    "        \n",
    "    hit_rates[k-MIN_CLUSTERS] = hit_rate / skf.get_n_splits()\n",
    "        "
   ]
  },
  {
   "cell_type": "code",
   "execution_count": 17,
   "metadata": {},
   "outputs": [
    {
     "data": {
      "image/png": "[encoded data removed]",
      "text/plain": [
       "<Figure size 504x504 with 1 Axes>"
      ]
     },
     "metadata": {
      "needs_background": "light"
     },
     "output_type": "display_data"
    }
   ],
   "source": [
    "fig = plt.figure(figsize=(7, 7))\n",
    "x = range(MIN_CLUSTERS, MAX_CLUSTERS+1)\n",
    "\n",
    "plt.plot(x, hit_rates)\n",
    "plt.axis([MIN_CLUSTERS, MAX_CLUSTERS,0.85,1.0])\n",
    "plt.ylabel('Hit rate')\n",
    "plt.xlabel('# of clusters')\n",
    "plt.show()"
   ]
  },
  {
   "cell_type": "markdown",
   "metadata": {},
   "source": [
    "# Evaluate the variation in the initial centers"
   ]
  },
  {
   "cell_type": "code",
   "execution_count": 18,
   "metadata": {},
   "outputs": [],
   "source": [
    "FOLDS = 10\n",
    "NUM_CLUSTERS = 10\n",
    "MIN_RAND_STATE = 0\n",
    "MAX_RAND_STATE = 9\n",
    "\n",
    "skf = StratifiedKFold(n_splits=FOLDS, shuffle=True, random_state=0) \n",
    "hit_rates = [None]*NUM_CLUSTERS\n",
    "\n",
    "for rs in range(MIN_RAND_STATE, MAX_RAND_STATE + 1): \n",
    "    hit_rate = 0\n",
    "    for train_index, test_index in skf.split(X, Y):\n",
    "        X_train, X_test = X[train_index], X[test_index]\n",
    "        Y_train, Y_test = Y[train_index], Y[test_index]        \n",
    "        mode_values = [None] * NUM_CLUSTERS\n",
    "        \n",
    "        kmeans = KMeans(n_clusters=NUM_CLUSTERS, random_state=rs).fit(X_train)\n",
    "        test_prediction = kmeans.predict(X_test)        \n",
    "        \n",
    "        for cluster in range(NUM_CLUSTERS):\n",
    "            cluster_indexes = list(get_indexes(cluster, test_prediction))\n",
    "            cluster_labels = Y_test[cluster_indexes]\n",
    "            mode_values[cluster] = mode(cluster_labels)[0]\n",
    "        \n",
    "        t_test_prediction = list(map(lambda x : mode_values[x], test_prediction))\n",
    "        hit_rate += accuracy_score(t_test_prediction, Y_test)\n",
    "        \n",
    "    hit_rates[rs] = hit_rate / skf.get_n_splits()\n",
    "        "
   ]
  },
  {
   "cell_type": "code",
   "execution_count": 19,
   "metadata": {},
   "outputs": [
    {
     "data": {
      "image/png": "[encoded data removed]",
      "text/plain": [
       "<Figure size 504x504 with 1 Axes>"
      ]
     },
     "metadata": {
      "needs_background": "light"
     },
     "output_type": "display_data"
    }
   ],
   "source": [
    "fig = plt.figure(figsize=(7, 7))\n",
    "\n",
    "plt.bar(range(10), hit_rates)\n",
    "plt.axis([-0.5, 9.5,0.92,1.0])\n",
    "plt.ylabel('Hit rate')\n",
    "plt.xlabel('Initial selection')\n",
    "plt.show()"
   ]
  },
  {
   "cell_type": "code",
   "execution_count": null,
   "metadata": {},
   "outputs": [],
   "source": []
  }
 ],
 "metadata": {
  "kernelspec": {
   "display_name": ".env",
   "language": "python",
   "name": ".env"
  },
  "language_info": {
   "codemirror_mode": {
    "name": "ipython",
    "version": 3
   },
   "file_extension": ".py",
   "mimetype": "text/x-python",
   "name": "python",
   "nbconvert_exporter": "python",
   "pygments_lexer": "ipython3",
   "version": "3.7.3"
  }
 },
 "nbformat": 4,
 "nbformat_minor": 2
}
