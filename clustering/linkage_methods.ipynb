{
 "cells": [
  {
   "cell_type": "markdown",
   "metadata": {},
   "source": [
    "## Pablo Valdunciel Sánchez \n",
    "## 5th October 2019\n",
    "\n",
    "Compare the different linkage methods that can be used with the AgglomerativeClustering algoritm:\n",
    "- Single link\n",
    "- Complete link \n",
    "- Avarage\n",
    "- Ward \n",
    "\n",
    "Use the *iris* dataset that vary the number of clusters between 3 and 10"
   ]
  },
  {
   "cell_type": "markdown",
   "metadata": {},
   "source": [
    "## Imports"
   ]
  },
  {
   "cell_type": "code",
   "execution_count": 47,
   "metadata": {},
   "outputs": [],
   "source": [
    "import numpy as np\n",
    "import matplotlib.pyplot as plt\n",
    "\n",
    "from sklearn.datasets import load_iris \n",
    "from sklearn.cluster import AgglomerativeClustering \n",
    "from sklearn.preprocessing import MinMaxScaler\n",
    "from sklearn.metrics import accuracy_score \n",
    "\n",
    "from scipy.stats import mode"
   ]
  },
  {
   "cell_type": "markdown",
   "metadata": {},
   "source": [
    "## Data preparation"
   ]
  },
  {
   "cell_type": "code",
   "execution_count": 48,
   "metadata": {},
   "outputs": [
    {
     "name": "stdout",
     "output_type": "stream",
     "text": [
      "(150, 4) (150,)\n"
     ]
    }
   ],
   "source": [
    "iris_dataset = load_iris()\n",
    "X = iris_dataset[\"data\"]\n",
    "Y = iris_dataset[\"target\"]\n",
    "X = MinMaxScaler().fit_transform(X)\n",
    "print(X.shape,Y.shape)"
   ]
  },
  {
   "cell_type": "markdown",
   "metadata": {},
   "source": [
    "## Auxiliar functions"
   ]
  },
  {
   "cell_type": "code",
   "execution_count": 49,
   "metadata": {},
   "outputs": [],
   "source": [
    "def get_indexes(target, myList):\n",
    "    \"\"\"Returns the indexes where the list 'myList' \n",
    "       contains the specified element 'target'\"\"\"\n",
    "    for i in range(len(myList)):\n",
    "        if myList[i] == target:\n",
    "            yield i"
   ]
  },
  {
   "cell_type": "markdown",
   "metadata": {},
   "source": [
    "### Training and test"
   ]
  },
  {
   "cell_type": "code",
   "execution_count": 55,
   "metadata": {},
   "outputs": [],
   "source": [
    "MIN_CLUSTERS = 3 \n",
    "MAX_CLUSTERS = 10 \n",
    "NUM_CLUSTERS = MAX_CLUSTERS - MIN_CLUSTERS +1\n",
    "linkage_methods = ['single', 'complete', 'average', 'ward']\n",
    "\n",
    "hit_rates = {}\n",
    "\n",
    "for method in linkage_methods:\n",
    "    \n",
    "    method_hit_rates = [0] * NUM_CLUSTERS\n",
    "        \n",
    "    for k in range(MIN_CLUSTERS, MAX_CLUSTERS+1):   \n",
    "\n",
    "        clustering = AgglomerativeClustering(n_clusters=k, linkage=method)\n",
    "        prediction = clustering.fit_predict(X)\n",
    "        mode_values = [None] * k\n",
    "\n",
    "        for i in range(0, k):\n",
    "            cluster_indexes = list(get_indexes(i, prediction))\n",
    "            cluster_values = Y[cluster_indexes]\n",
    "            mode_values[i] = mode(cluster_values)[0]\n",
    "\n",
    "        t_prediction = np.fromiter(map(lambda x: mode_values[x], prediction), dtype=np.int)\n",
    "        method_hit_rates[k-MIN_CLUSTERS] = accuracy_score(t_prediction, Y)  \n",
    "    \n",
    "    hit_rates[method] = method_hit_rates\n"
   ]
  },
  {
   "cell_type": "markdown",
   "metadata": {},
   "source": [
    "## Comparison"
   ]
  },
  {
   "cell_type": "code",
   "execution_count": 56,
   "metadata": {},
   "outputs": [
    {
     "data": {
      "image/png": "[encoded data removed]",
      "text/plain": [
       "<Figure size 504x504 with 1 Axes>"
      ]
     },
     "metadata": {
      "needs_background": "light"
     },
     "output_type": "display_data"
    }
   ],
   "source": [
    "fig = plt.figure(figsize=(7, 7))\n",
    "x = range(MIN_CLUSTERS, MAX_CLUSTERS+1)\n",
    "plt.plot(x, hit_rates[\"single\"])\n",
    "plt.plot(x, hit_rates[\"complete\"])\n",
    "plt.plot(x, hit_rates[\"average\"])\n",
    "plt.plot(x, hit_rates[\"ward\"])\n",
    "plt.legend(['Min','Max', 'Avg','Ward'])\n",
    "plt.axis([3,10,0.6,1.0])\n",
    "plt.ylabel('Hit rate')\n",
    "plt.xlabel('Number of clusters')\n",
    "plt.show()"
   ]
  }
 ],
 "metadata": {
  "kernelspec": {
   "display_name": "Python 3",
   "language": "python",
   "name": "python3"
  },
  "language_info": {
   "codemirror_mode": {
    "name": "ipython",
    "version": 3
   },
   "file_extension": ".py",
   "mimetype": "text/x-python",
   "name": "python",
   "nbconvert_exporter": "python",
   "pygments_lexer": "ipython3",
   "version": "3.7.3"
  }
 },
 "nbformat": 4,
 "nbformat_minor": 2
}
