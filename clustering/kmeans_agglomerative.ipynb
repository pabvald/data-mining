{
 "cells": [
  {
   "cell_type": "markdown",
   "metadata": {},
   "source": [
    "## Pablo Valdunciel Sánchez \n",
    "### 18th October, 2019\n",
    "Generate k + l (6 + 9) clusters with Kmeans. Consider the k + l centers as isolated examples and using AgglomerativeClustering (ward) reduce them to k centers. "
   ]
  },
  {
   "cell_type": "markdown",
   "metadata": {},
   "source": [
    "# Imports"
   ]
  },
  {
   "cell_type": "code",
   "execution_count": 1,
   "metadata": {},
   "outputs": [],
   "source": [
    "import numpy as np \n",
    "import matplotlib.pyplot as plt\n",
    "\n",
    "from sklearn.cluster import KMeans, AgglomerativeClustering\n",
    "from sklearn.preprocessing import MinMaxScaler \n",
    "from sklearn.model_selection import StratifiedKFold\n",
    "from sklearn.datasets import load_iris\n",
    "from sklearn.metrics import accuracy_score\n",
    "\n",
    "from scipy.stats import mode"
   ]
  },
  {
   "cell_type": "markdown",
   "metadata": {},
   "source": [
    "# Data preparation"
   ]
  },
  {
   "cell_type": "code",
   "execution_count": 2,
   "metadata": {},
   "outputs": [
    {
     "name": "stdout",
     "output_type": "stream",
     "text": [
      "(150, 4) (150,)\n"
     ]
    }
   ],
   "source": [
    "# Obtener datos\n",
    "dataset = load_iris() \n",
    "X = dataset[\"data\"]\n",
    "Y = dataset[\"target\"]\n",
    "\n",
    "# Normalizar atributos \n",
    "X = MinMaxScaler().fit_transform(X)\n",
    "\n",
    "print(X.shape, Y.shape)"
   ]
  },
  {
   "cell_type": "markdown",
   "metadata": {},
   "source": [
    "#  Kmeans & AgglomerativeClustering combination"
   ]
  },
  {
   "cell_type": "code",
   "execution_count": 3,
   "metadata": {},
   "outputs": [],
   "source": [
    "K = 6\n",
    "L = 9"
   ]
  },
  {
   "cell_type": "code",
   "execution_count": 4,
   "metadata": {},
   "outputs": [],
   "source": [
    "def get_indexes(target, myList):\n",
    "    \"\"\" Returns the indexes where the list 'myList' \n",
    "        contains the specified element 'target'\n",
    "    \"\"\"\n",
    "    for i in range(len(myList)):\n",
    "        if myList[i] == target:\n",
    "            yield i"
   ]
  },
  {
   "cell_type": "markdown",
   "metadata": {},
   "source": [
    "### Obtain the K+L clusters"
   ]
  },
  {
   "cell_type": "code",
   "execution_count": 5,
   "metadata": {},
   "outputs": [
    {
     "data": {
      "text/plain": [
       "array([[0.62654321, 0.52777778, 0.78907721, 0.93518519],\n",
       "       [0.20634921, 0.60912698, 0.08071025, 0.07142857],\n",
       "       [0.421875  , 0.375     , 0.56038136, 0.52083333],\n",
       "       [0.6547619 , 0.4047619 , 0.75544794, 0.86904762],\n",
       "       [0.59375   , 0.40104167, 0.72033898, 0.72916667],\n",
       "       [0.87037037, 0.38425926, 0.89265537, 0.78703704],\n",
       "       [0.19444444, 0.125     , 0.38559322, 0.38541667],\n",
       "       [0.10784314, 0.43137255, 0.06779661, 0.03921569],\n",
       "       [0.36574074, 0.21527778, 0.49717514, 0.4375    ],\n",
       "       [0.48148148, 0.47916667, 0.6440678 , 0.68055556],\n",
       "       [0.36111111, 0.27777778, 0.66949153, 0.78472222],\n",
       "       [0.91666667, 0.72222222, 0.91525424, 0.88888889],\n",
       "       [0.30324074, 0.80208333, 0.08898305, 0.07291667],\n",
       "       [0.54166667, 0.20833333, 0.68305085, 0.61666667],\n",
       "       [0.65555556, 0.42083333, 0.60847458, 0.55      ]])"
      ]
     },
     "execution_count": 5,
     "metadata": {},
     "output_type": "execute_result"
    }
   ],
   "source": [
    "kmeans = KMeans(n_clusters=(K+L), random_state=0)\n",
    "\n",
    "kmeans_prediction = kmeans.fit_predict(X)\n",
    "\n",
    "kmeans_cluster_centers = kmeans.cluster_centers_\n",
    "kmeans_cluster_centers"
   ]
  },
  {
   "cell_type": "markdown",
   "metadata": {},
   "source": [
    "### Use AgglomerativeClustering (ward) to the K+L centers to get K clusters"
   ]
  },
  {
   "cell_type": "code",
   "execution_count": 6,
   "metadata": {},
   "outputs": [
    {
     "name": "stdout",
     "output_type": "stream",
     "text": [
      "Hit rate = 88.0%\n"
     ]
    }
   ],
   "source": [
    "agglomerative = AgglomerativeClustering(n_clusters=K, linkage='ward')\n",
    "\n",
    "agglomerative_prediction = agglomerative.fit_predict(kmeans_cluster_centers)\n",
    "agglomerative_prediction = list(map(lambda x: agglomerative_prediction[x], kmeans_prediction))\n",
    "\n",
    "mode_values = [None]*K \n",
    "\n",
    "for i in range(K):\n",
    "    cluster_indexes = list(get_indexes(i, agglomerative_prediction))\n",
    "    cluster_values = Y[cluster_indexes]\n",
    "    mode_values[i] = mode(cluster_values)[0]\n",
    "    \n",
    "final_prediction = np.fromiter(map(lambda x: mode_values[x], agglomerative_prediction), dtype=np.int)\n",
    "hit_rate = accuracy_score(Y, final_prediction)\n",
    "\n",
    "\n",
    "print(\"Hit rate = {:.3}%\".format(hit_rate*100))"
   ]
  }
 ],
 "metadata": {
  "kernelspec": {
   "display_name": ".env",
   "language": "python",
   "name": ".env"
  },
  "language_info": {
   "codemirror_mode": {
    "name": "ipython",
    "version": 3
   },
   "file_extension": ".py",
   "mimetype": "text/x-python",
   "name": "python",
   "nbconvert_exporter": "python",
   "pygments_lexer": "ipython3",
   "version": "3.7.3"
  }
 },
 "nbformat": 4,
 "nbformat_minor": 2
}
